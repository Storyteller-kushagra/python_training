{
 "cells": [
  {
   "cell_type": "code",
   "execution_count": 3,
   "metadata": {},
   "outputs": [],
   "source": [
    "class Queue:\n",
    "    def __init__(self):\n",
    "        self.__end = -1\n",
    "        self.__size = 0\n",
    "        self.__data = np.zeros((10,),dtype = int)\n",
    "        \n",
    "    def isFull(self):\n",
    "        return self.__size == len(self.__data)\n",
    "    \n",
    "    def isEmpty(self):\n",
    "        return self.__size == 0\n",
    "    \n",
    "    def add(self):\n",
    "        if self.ifFull():\n",
    "            print(\"Queue is Full\")\n",
    "        else:\n",
    "            self.__end += 1\n",
    "            self.__data[self.__end] = value\n",
    "            self.__size += 1\n",
    "        \n",
    "    def remove(self):\n",
    "        if self.isEmpty():\n",
    "            print(\"Queue is empty\")\n",
    "            return None\n",
    "        else:\n",
    "            removed = self.__data[0]\n",
    "            for i in range(1, self.__size):\n",
    "                self.__data[i-1] = self.__data[i]\n",
    "                \n",
    "            self.__end -= 1\n",
    "            self.__size -= 1\n",
    "            return removed\n",
    "            \n",
    "    def __repr__(self):\n",
    "        return str(self.__data[:self.__end+1])"
   ]
  },
  {
   "cell_type": "code",
   "execution_count": 4,
   "metadata": {},
   "outputs": [],
   "source": [
    "Q = Queue()"
   ]
  },
  {
   "cell_type": "code",
   "execution_count": null,
   "metadata": {},
   "outputs": [],
   "source": [
    "class SUQ2:\n",
    "    def __init__(self):\n",
    "        self.q1 = CircularQueue()\n",
    "        self.q2 = CircularQueue()\n",
    "    \n",
    "    def "
   ]
  }
 ],
 "metadata": {
  "kernelspec": {
   "display_name": "Python 3",
   "language": "python",
   "name": "python3"
  },
  "language_info": {
   "codemirror_mode": {
    "name": "ipython",
    "version": 3
   },
   "file_extension": ".py",
   "mimetype": "text/x-python",
   "name": "python",
   "nbconvert_exporter": "python",
   "pygments_lexer": "ipython3",
   "version": "3.7.3"
  }
 },
 "nbformat": 4,
 "nbformat_minor": 2
}
