{
 "cells": [
  {
   "cell_type": "code",
   "execution_count": null,
   "metadata": {},
   "outputs": [
    {
     "name": "stdout",
     "output_type": "stream",
     "text": [
      "Load finished\n"
     ]
    }
   ],
   "source": [
    "# Importing libraries \n",
    "import bs4 as bs \n",
    "import sys \n",
    "import urllib.request \n",
    "from PyQt5.QtWebEngineWidgets import QWebEnginePage \n",
    "from PyQt5.QtWidgets import QApplication \n",
    "from PyQt5.QtCore import QUrl \n",
    "import pytube # library for downloading youtube videos \n",
    "\n",
    "\n",
    "class Page(QWebEnginePage): \n",
    "\tdef __init__(self, url): \n",
    "\t\tself.app = QApplication(sys.argv) \n",
    "\t\tQWebEnginePage.__init__(self) \n",
    "\t\tself.html = '' \n",
    "\t\tself.loadFinished.connect(self._on_load_finished) \n",
    "\t\tself.load(QUrl(url)) \n",
    "\t\tself.app.exec_() \n",
    "\n",
    "\tdef _on_load_finished(self): \n",
    "\t\tself.html = self.toHtml(self.Callable) \n",
    "\t\tprint('Load finished') \n",
    "\n",
    "\tdef Callable(self, html_str): \n",
    "\t\tself.html = html_str \n",
    "\t\tself.app.quit() \n",
    "\n",
    "\n",
    "links = [] \n",
    "\n",
    "\n",
    "def exact_link(link): \n",
    "\tvid_id = link.split('=') \n",
    "\t# print(vid_id) \n",
    "\tstr = \"\" \n",
    "\tfor i in vid_id[0:2]: \n",
    "\t\tstr += i + \"=\"\n",
    "\n",
    "\tstr_new = str[0:len(str) - 1] \n",
    "\tindex = str_new.find(\"&\") \n",
    "\n",
    "\tnew_link = \"https://www.youtube.com\" + str_new[0:index] \n",
    "\treturn new_link \n",
    "\n",
    "\n",
    "url = \"https://www.youtube.com/watch?v=lcJzw0JGfeE&list=PLqM7alHXFySENpNgw27MzGxLzNJuC_Kdj\"\n",
    "# Scraping and extracting the video \n",
    "# links from the given playlist url \n",
    "page = Page(url) \n",
    "count = 0\n",
    "\n",
    "soup = bs.BeautifulSoup(page.html, 'html.parser') \n",
    "for link in soup.find_all('a', id='thumbnail'): \n",
    "\t\n",
    "\t# not using first link because it is \n",
    "\t# playlist link not particular video link \n",
    "\tif count == 0: \n",
    "\t\tcount += 1\n",
    "\t\tcontinue\n",
    "\telse: \n",
    "\t\tvid_src = link['href'] \n",
    "\t\t# print(vid_src) \n",
    "\t\t# keeping the format of link to be \n",
    "\t\t# given to pytube otherwise in some cases \n",
    "\t\tnew_link = exact_link(vid_src) \n",
    "\t\t\n",
    "\t\t# error might occur due to this \n",
    "\t\t# print(new_link) \n",
    "\t\t\n",
    "\t\t# appending the link to the links array \n",
    "\t\tlinks.append(new_link) \n",
    "\n",
    "# print(links) \n",
    "\n",
    "# downloading each video from \n",
    "# the link in the links array \n",
    "for link in links: \n",
    "\tyt = pytube.YouTube(link) \n",
    "\t\n",
    "\t# Downloaded video will be the best quality video \n",
    "\tstream = yt.streams.filter(progressive=True, \n",
    "\t\t\t\tfile_extension='mp4').order_by( \n",
    "\t\t\t\t'resolution').desc().first() \n",
    "\ttry: \n",
    "\t\tstream.download() \n",
    "\t\t# printing the links downloaded \n",
    "\t\tprint(\"Downloaded: \", link) \n",
    "\texcept: \n",
    "\t\tprint('Some error in downloading: ', link) \n"
   ]
  },
  {
   "cell_type": "code",
   "execution_count": 18,
   "metadata": {},
   "outputs": [],
   "source": [
    "class Human:\n",
    "    \n",
    "    population = 0\n",
    "    \n",
    "    listing = []\n",
    "    \n",
    "    def __init__(self, name=\"bachha\", age=0):\n",
    "        self.name = name\n",
    "        self.age = age\n",
    "        self.alive = True\n",
    "        \n",
    "        Human.population += 1\n",
    "        Human.listing.append(self)\n",
    "        \n",
    "        print(Human.listing)\n",
    "    \n",
    "    @classmethod\n",
    "    def genesis(cls):\n",
    "        cls.population = 0\n",
    "        for item in cls.listing:\n",
    "            item.alive = False"
   ]
  },
  {
   "cell_type": "code",
   "execution_count": 19,
   "metadata": {},
   "outputs": [
    {
     "name": "stdout",
     "output_type": "stream",
     "text": [
      "[<__main__.Human object at 0x7f56881f2f60>]\n"
     ]
    }
   ],
   "source": [
    "mohit = Human(\"Mohit\")"
   ]
  },
  {
   "cell_type": "code",
   "execution_count": 20,
   "metadata": {},
   "outputs": [],
   "source": [
    "class Human:\n",
    "    population = 0\n",
    "    def __init__(self, age):\n",
    "        self.age = age\n",
    "        Human.population += 1"
   ]
  },
  {
   "cell_type": "code",
   "execution_count": 21,
   "metadata": {},
   "outputs": [],
   "source": [
    "a = Human(23)\n",
    "b = Human(42)\n"
   ]
  },
  {
   "cell_type": "code",
   "execution_count": 22,
   "metadata": {},
   "outputs": [
    {
     "data": {
      "text/plain": [
       "(23, 2, 42, 2)"
      ]
     },
     "execution_count": 22,
     "metadata": {},
     "output_type": "execute_result"
    }
   ],
   "source": [
    "a.age, a.population, b.age, b.population"
   ]
  },
  {
   "cell_type": "code",
   "execution_count": 23,
   "metadata": {},
   "outputs": [
    {
     "data": {
      "text/plain": [
       "(3, 2)"
      ]
     },
     "execution_count": 23,
     "metadata": {},
     "output_type": "execute_result"
    }
   ],
   "source": [
    "a.population = a.population + 1\n",
    "a.population, b.population\n"
   ]
  },
  {
   "cell_type": "code",
   "execution_count": null,
   "metadata": {},
   "outputs": [],
   "source": []
  }
 ],
 "metadata": {
  "kernelspec": {
   "display_name": "Python 3",
   "language": "python",
   "name": "python3"
  },
  "language_info": {
   "codemirror_mode": {
    "name": "ipython",
    "version": 3
   },
   "file_extension": ".py",
   "mimetype": "text/x-python",
   "name": "python",
   "nbconvert_exporter": "python",
   "pygments_lexer": "ipython3",
   "version": "3.7.3"
  }
 },
 "nbformat": 4,
 "nbformat_minor": 2
}
