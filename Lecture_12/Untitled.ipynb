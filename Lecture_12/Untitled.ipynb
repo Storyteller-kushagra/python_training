{
 "cells": [
  {
   "cell_type": "code",
   "execution_count": 1,
   "metadata": {},
   "outputs": [],
   "source": [
    "from flask import Flask , request"
   ]
  },
  {
   "cell_type": "code",
   "execution_count": null,
   "metadata": {},
   "outputs": [
    {
     "name": "stdout",
     "output_type": "stream",
     "text": [
      " * Serving Flask app \"this-is-a-name\" (lazy loading)\n",
      " * Environment: production\n",
      "   WARNING: Do not use the development server in a production environment.\n",
      "   Use a production WSGI server instead.\n",
      " * Debug mode: off\n"
     ]
    },
    {
     "name": "stderr",
     "output_type": "stream",
     "text": [
      " * Running on http://127.0.0.1:5000/ (Press CTRL+C to quit)\n",
      "127.0.0.1 - - [10/Feb/2020 12:23:14] \"GET /check/ HTTP/1.1\" 200 -\n",
      "127.0.0.1 - - [10/Feb/2020 12:38:00] \"POST /callback HTTP/1.1\" 200 -\n"
     ]
    },
    {
     "name": "stdout",
     "output_type": "stream",
     "text": [
      "{'object': 'page', 'entry': [{'id': '104520217791279', 'time': 1581318480072, 'messaging': [{'sender': {'id': '2674196512707127'}, 'recipient': {'id': '104520217791279'}, 'timestamp': 1581317292722, 'message': {'mid': 'm__bBv7XZ5Uy_kS6ckKNyf2TZkN0VnWPhIzaPh8RorWkiKwCOSvFs0fuC3aItLTMWGnwkK6GCHiL1r-HwLGlujGA', 'text': 'chup'}}]}]}\n"
     ]
    },
    {
     "name": "stderr",
     "output_type": "stream",
     "text": [
      "127.0.0.1 - - [10/Feb/2020 12:38:01] \"POST /callback HTTP/1.1\" 200 -\n"
     ]
    },
    {
     "name": "stdout",
     "output_type": "stream",
     "text": [
      "{'object': 'page', 'entry': [{'id': '104520217791279', 'time': 1581318480978, 'messaging': [{'sender': {'id': '2674196512707127'}, 'recipient': {'id': '104520217791279'}, 'timestamp': 1581317471043, 'message': {'mid': 'm_kvDyYM3abtrv6LI2B9i8sjZkN0VnWPhIzaPh8RorWkhi81rKbSJ26HLMrRVpieitTv8_ujwOasQehKav5mibBw', 'text': 'hi'}}]}]}\n"
     ]
    },
    {
     "name": "stderr",
     "output_type": "stream",
     "text": [
      "127.0.0.1 - - [10/Feb/2020 12:38:03] \"POST /callback HTTP/1.1\" 200 -\n"
     ]
    },
    {
     "name": "stdout",
     "output_type": "stream",
     "text": [
      "{'object': 'page', 'entry': [{'id': '104520217791279', 'time': 1581318481679, 'messaging': [{'sender': {'id': '2674196512707127'}, 'recipient': {'id': '104520217791279'}, 'timestamp': 1581317525536, 'message': {'mid': 'm_Pq1EXDTSNlvnDYUgIbedSzZkN0VnWPhIzaPh8RorWkhQ3jlOMCdHbdLiO_mpEr9XvB6lH1nP7cT8fuiIA036cA', 'text': 'hi'}}]}]}\n"
     ]
    },
    {
     "name": "stderr",
     "output_type": "stream",
     "text": [
      "127.0.0.1 - - [10/Feb/2020 12:38:03] \"POST /callback HTTP/1.1\" 200 -\n"
     ]
    },
    {
     "name": "stdout",
     "output_type": "stream",
     "text": [
      "{'object': 'page', 'entry': [{'id': '104520217791279', 'time': 1581318483394, 'messaging': [{'sender': {'id': '2674196512707127'}, 'recipient': {'id': '104520217791279'}, 'timestamp': 1581317572118, 'message': {'mid': 'm_Fl0mWUSFKV3ysZYDY0sqRDZkN0VnWPhIzaPh8RorWkghCHWFsL18-pD_Q4pJjL_FW56vcS12GzCSA5e0mnwgsg', 'text': 'hi'}}]}]}\n"
     ]
    },
    {
     "name": "stderr",
     "output_type": "stream",
     "text": [
      "127.0.0.1 - - [10/Feb/2020 12:38:05] \"POST /callback HTTP/1.1\" 200 -\n"
     ]
    },
    {
     "name": "stdout",
     "output_type": "stream",
     "text": [
      "{'object': 'page', 'entry': [{'id': '104520217791279', 'time': 1581318484746, 'messaging': [{'sender': {'id': '2674196512707127'}, 'recipient': {'id': '104520217791279'}, 'timestamp': 1581317633872, 'message': {'mid': 'm_IqWyKgrVpIxbiGRKukQJ0zZkN0VnWPhIzaPh8RorWki-cpB-QYgGyR0T3s22hYD0BipIrhozAjCf8uOxrXhnhA', 'text': 'hi'}}]}]}\n"
     ]
    },
    {
     "name": "stderr",
     "output_type": "stream",
     "text": [
      "127.0.0.1 - - [10/Feb/2020 13:15:42] \"GET /check/ HTTP/1.1\" 200 -\n",
      "127.0.0.1 - - [10/Feb/2020 13:15:44] \"GET /check/ HTTP/1.1\" 200 -\n"
     ]
    }
   ],
   "source": [
    "app = Flask(\"this-is-a-name\")\n",
    "\n",
    "token = \"1234567890\"\n",
    "\n",
    "@app.route(\"/check/\", methods=[\"GET\"])\n",
    "def sayhi():\n",
    "    return \"working\"\n",
    "\n",
    "@app.route(\"/callback/\", methods=[\"GET\"])\n",
    "def get_callback():\n",
    "    if token == request.args.get(\"hub.verify_token\"):\n",
    "        return request.args.get(\"hub.challenge\")\n",
    "    else:\n",
    "        return \"not working\"\n",
    "    \n",
    "@app.route(\"/callback\", methods=[\"POST\"])\n",
    "def post_callback():\n",
    "    output = request.get_json()\n",
    "    for entry in output['entry']:\n",
    "        if \"messaging\" == entry:\n",
    "            for event in event[]\n",
    "            sender = event[messaging]\n",
    "            \n",
    "            \n",
    "    print(output)\n",
    "    return \"done\"\n",
    "\n",
    "app.run()"
   ]
  },
  {
   "cell_type": "code",
   "execution_count": null,
   "metadata": {},
   "outputs": [],
   "source": [
    "def bot(recipient, text):\n",
    "    url = r\"\"\n",
    "    \n",
    "    d1 = {\n",
    "        \"recipient\" : {\n",
    "            \"id\" : recipient\n",
    "        },\n",
    "        \"message\" :{\n",
    "            \"text\": \"Bot says \" + text\n",
    "        }\n",
    "    }\n",
    "    \n",
    "    d2 = {\n",
    "        \"recipient\" : {\n",
    "            \"id\" : recipient\n",
    "        },\n",
    "        \"message\" : {\n",
    "            \"attachment\" : {\n",
    "                \"type\" : \"image\"\n",
    "            }\n",
    "        }\n",
    "    }"
   ]
  }
 ],
 "metadata": {
  "kernelspec": {
   "display_name": "Python 3",
   "language": "python",
   "name": "python3"
  },
  "language_info": {
   "codemirror_mode": {
    "name": "ipython",
    "version": 3
   },
   "file_extension": ".py",
   "mimetype": "text/x-python",
   "name": "python",
   "nbconvert_exporter": "python",
   "pygments_lexer": "ipython3",
   "version": "3.7.3"
  }
 },
 "nbformat": 4,
 "nbformat_minor": 2
}
