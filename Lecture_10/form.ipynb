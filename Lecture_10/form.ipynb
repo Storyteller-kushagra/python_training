{
 "cells": [
  {
   "cell_type": "code",
   "execution_count": 1,
   "metadata": {},
   "outputs": [],
   "source": [
    "from flask import Flask, request, templating"
   ]
  },
  {
   "cell_type": "code",
   "execution_count": null,
   "metadata": {},
   "outputs": [
    {
     "name": "stdout",
     "output_type": "stream",
     "text": [
      " * Serving Flask app \"this-is-a-name\" (lazy loading)\n",
      " * Environment: production\n",
      "   WARNING: Do not use the development server in a production environment.\n",
      "   Use a production WSGI server instead.\n",
      " * Debug mode: off\n"
     ]
    },
    {
     "name": "stderr",
     "output_type": "stream",
     "text": [
      " * Running on http://127.0.0.1:5000/ (Press CTRL+C to quit)\n",
      "127.0.0.1 - - [06/Feb/2020 13:36:25] \"GET /form/ HTTP/1.1\" 200 -\n",
      "127.0.0.1 - - [06/Feb/2020 13:36:41] \"POST /submit/ HTTP/1.1\" 200 -\n",
      "127.0.0.1 - - [10/Feb/2020 11:21:01] \"GET / HTTP/1.1\" 404 -\n",
      "127.0.0.1 - - [10/Feb/2020 11:21:02] \"GET /favicon.ico HTTP/1.1\" 404 -\n"
     ]
    }
   ],
   "source": [
    "app = Flask(\"this-is-a-name\")\n",
    "\n",
    "@app.route(\"/submit/\" , methods = [\"GET\",\"POST\"])\n",
    "def submit():\n",
    "    \n",
    "    fname = request.form.get(\"firstname\")\n",
    "    lname = request.form.get(\"lastname\")\n",
    "    \n",
    "    return \"My fname is {} and lname is {}\".format(fname,lname)\n",
    "\n",
    "@app.route(\"/form/\")\n",
    "def form():\n",
    "    return templating.render_template(\"s.template\")\n",
    "\n",
    "app.run()"
   ]
  },
  {
   "cell_type": "code",
   "execution_count": null,
   "metadata": {},
   "outputs": [],
   "source": []
  }
 ],
 "metadata": {
  "kernelspec": {
   "display_name": "Python 3",
   "language": "python",
   "name": "python3"
  },
  "language_info": {
   "codemirror_mode": {
    "name": "ipython",
    "version": 3
   },
   "file_extension": ".py",
   "mimetype": "text/x-python",
   "name": "python",
   "nbconvert_exporter": "python",
   "pygments_lexer": "ipython3",
   "version": "3.7.3"
  }
 },
 "nbformat": 4,
 "nbformat_minor": 2
}
