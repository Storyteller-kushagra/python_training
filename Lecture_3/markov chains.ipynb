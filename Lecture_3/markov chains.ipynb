{
 "cells": [
  {
   "cell_type": "code",
   "execution_count": 2,
   "metadata": {},
   "outputs": [],
   "source": [
    "import requests"
   ]
  },
  {
   "cell_type": "code",
   "execution_count": 3,
   "metadata": {},
   "outputs": [],
   "source": [
    "k=5"
   ]
  },
  {
   "cell_type": "code",
   "execution_count": 4,
   "metadata": {},
   "outputs": [],
   "source": [
    "text = \"\"\"Uth ja apni raakh se\n",
    "Tu udd ja ab talaash mein\n",
    "Parwaaz dekh parwaane ki\n",
    "Aasmaan bhi sar uthayega\n",
    "Aayega, apna time aayega\n",
    "Mere jaisa shaana lala\n",
    "Tujhe na mil paayega\n",
    "Ye shabdo ka jwaala\n",
    "Meri bediyan pighlaayega\n",
    "Jitna tune boya hai\n",
    "Tu utna hi toh khaayega\n",
    "Aisa mera khwaab hai\n",
    "Jo dar ko bhi sataayega\n",
    "Zinda mera khwab\n",
    "Ab kaise tu dafnayega\n",
    "Ab hausle se jeene de\n",
    "Ab khauf nahi hai seene mein\n",
    "Har raaste ko cheerenge\n",
    "Hum kaamyabi cheenenge\n",
    "Sab kuch mila paseene se\n",
    "Matlab bana ab jeene mein\n",
    "Kyun?\n",
    "Kyunki apna time aayega\n",
    "Tu nanga hi toh aaya hai\n",
    "Kya ghanta lekar jaayega\n",
    "Apna time aayega\n",
    "Apna time aayega\n",
    "Apna time aayega\n",
    "Tu nanga hi toh aaya hai\n",
    "Kya ghanta lekar jaayega\n",
    "Apna time aayega\"\"\"\n",
    "\n",
    "\n",
    "counts={}\n",
    "\n",
    "for i in range(k,len(text)):\n",
    "    cut = text[i-k:i]\n",
    "    nxt = text[i]\n",
    "    \n",
    "    if cut not in counts:\n",
    "        counts[cut] = {}\n",
    "        \n",
    "    if nxt not in counts[cut]:\n",
    "        counts[cut][nxt] = 0\n",
    "        \n",
    "    counts[cut][nxt] += 1"
   ]
  },
  {
   "cell_type": "code",
   "execution_count": 10,
   "metadata": {},
   "outputs": [],
   "source": [
    "greeting = text[:20]"
   ]
  },
  {
   "cell_type": "code",
   "execution_count": 11,
   "metadata": {},
   "outputs": [
    {
     "data": {
      "text/plain": [
       "'Uth ja apni raakh se'"
      ]
     },
     "execution_count": 11,
     "metadata": {},
     "output_type": "execute_result"
    }
   ],
   "source": [
    "greeting"
   ]
  },
  {
   "cell_type": "code",
   "execution_count": 12,
   "metadata": {},
   "outputs": [],
   "source": [
    "import random\n",
    "\n",
    "for i in range(500):\n",
    "    cut =  greeting[-k:]\n",
    "    top3 = sorted(counts[cut].items(),key=lambda item:item[1], reverse=True)[:3]\n",
    "    chosen = random.choice(top3)[0]\n",
    "    greeting  = greeting + chosen"
   ]
  },
  {
   "cell_type": "code",
   "execution_count": 13,
   "metadata": {},
   "outputs": [
    {
     "name": "stdout",
     "output_type": "stream",
     "text": [
      "Uth ja apni raakh se\n",
      "Tu utna hi toh khaayega, apna time aayega, apna time aayega\n",
      "Meri bediyan pighlaayega, apna time aayega\n",
      "Tu nanga hi toh khaayega\n",
      "Mere jaisa shaana lala\n",
      "Tujhe na mil paayega\n",
      "Aayega\n",
      "Meri bediyan pighlaayega\n",
      "Aisa mera khwab\n",
      "Ab khauf nahi hai seene mein\n",
      "Parwaane ki\n",
      "Aasmaan bhi sataayega, apna time aayega\n",
      "Meri bediyan pighlaayega\n",
      "Meri bediyan pighlaayega, apna time aayega\n",
      "Meri bediyan pighlaayega\n",
      "Tu nanga hi toh aaya hai\n",
      "Jo dar ko bhi sar uthayega\n",
      "Meri bediyan pighlaayega, apna time aayega, apna time\n"
     ]
    }
   ],
   "source": [
    "print(greeting)"
   ]
  },
  {
   "cell_type": "code",
   "execution_count": 9,
   "metadata": {},
   "outputs": [
    {
     "data": {
      "text/plain": [
       "'ayega'"
      ]
     },
     "execution_count": 9,
     "metadata": {},
     "output_type": "execute_result"
    }
   ],
   "source": [
    "cut"
   ]
  },
  {
   "cell_type": "code",
   "execution_count": null,
   "metadata": {},
   "outputs": [],
   "source": []
  }
 ],
 "metadata": {
  "kernelspec": {
   "display_name": "Python 3",
   "language": "python",
   "name": "python3"
  },
  "language_info": {
   "codemirror_mode": {
    "name": "ipython",
    "version": 3
   },
   "file_extension": ".py",
   "mimetype": "text/x-python",
   "name": "python",
   "nbconvert_exporter": "python",
   "pygments_lexer": "ipython3",
   "version": "3.7.3"
  }
 },
 "nbformat": 4,
 "nbformat_minor": 2
}
