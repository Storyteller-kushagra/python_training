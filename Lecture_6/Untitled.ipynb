{
 "cells": [
  {
   "cell_type": "code",
   "execution_count": 5,
   "metadata": {},
   "outputs": [],
   "source": [
    "class Engine:\n",
    "    def start(self):\n",
    "        print(\"Start like generic engine\")\n",
    "    def stop(self):\n",
    "        print(\"Stop like generic engine\")"
   ]
  },
  {
   "cell_type": "code",
   "execution_count": 6,
   "metadata": {},
   "outputs": [],
   "source": [
    "class Steering:\n",
    "    def left(self):\n",
    "        print(\"Turn left like generic steering\")\n",
    "    def right(self):\n",
    "        print(\"Turn right like generic steering\")"
   ]
  },
  {
   "cell_type": "code",
   "execution_count": 18,
   "metadata": {},
   "outputs": [],
   "source": [
    "class Car:\n",
    "    def __init__(self):\n",
    "        self.__engine = Engine()\n",
    "        self.__steering = Steering()\n",
    "        \n",
    "    def start(self):\n",
    "        self.__engine.start()\n",
    "        \n",
    "    def stop(self):\n",
    "        self.__engine.stop()"
   ]
  },
  {
   "cell_type": "code",
   "execution_count": 22,
   "metadata": {},
   "outputs": [],
   "source": [
    "class MusicPlayer:\n",
    "    def __init__(self):\n",
    "        self.__engine = Engine()\n",
    "        self.__steering = Steering()\n",
    "        \n",
    "    def start(self):\n",
    "        self.__engine.start()\n",
    "        \n",
    "    def stop(self):\n",
    "        self.__engine.stop()"
   ]
  },
  {
   "cell_type": "code",
   "execution_count": null,
   "metadata": {},
   "outputs": [],
   "source": []
  },
  {
   "cell_type": "code",
   "execution_count": null,
   "metadata": {},
   "outputs": [],
   "source": []
  }
 ],
 "metadata": {
  "kernelspec": {
   "display_name": "Python 3",
   "language": "python",
   "name": "python3"
  },
  "language_info": {
   "codemirror_mode": {
    "name": "ipython",
    "version": 3
   },
   "file_extension": ".py",
   "mimetype": "text/x-python",
   "name": "python",
   "nbconvert_exporter": "python",
   "pygments_lexer": "ipython3",
   "version": "3.7.3"
  }
 },
 "nbformat": 4,
 "nbformat_minor": 2
}
