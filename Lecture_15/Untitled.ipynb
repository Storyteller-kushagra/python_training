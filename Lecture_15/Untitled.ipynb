{
 "cells": [
  {
   "cell_type": "code",
   "execution_count": 1,
   "metadata": {},
   "outputs": [],
   "source": [
    "class Node:\n",
    "    def __init__(self, value, next=None):\n",
    "        self.value = value\n",
    "        self.next = next\n",
    "        "
   ]
  },
  {
   "cell_type": "code",
   "execution_count": 2,
   "metadata": {},
   "outputs": [],
   "source": [
    "class LinkedList:\n",
    "    \n",
    "    def __init__(self):\n",
    "        \n",
    "        self.head = None\n",
    "        self.tail = None\n",
    "        self.size = 0\n",
    "        \n",
    "    def insertFirst(self, value):\n",
    "        node = Node(value, self.head)\n",
    "        self.head = node\n",
    "        \n",
    "        if self.tail == None:\n",
    "            self.tail = self.head\n",
    "        \n",
    "        self.size += 1\n",
    "        \n",
    "    def insertLast(self, value):\n",
    "        if self.size == 0:\n",
    "            self.insertFirst(value)\n",
    "            return\n",
    "    \n",
    "        node = Node(value)\n",
    "        self.tail.next = node\n",
    "        self.tail = node\n",
    "        \n",
    "        self.size += 1\n",
    "        \n",
    "    def deleteFirst(self):\n",
    "        \n",
    "        if self.size == 0:\n",
    "            print(\"List is empty\")\n",
    "            return \n",
    "        \n",
    "        value = self.head.value\n",
    "        self.head = self.head.next\n",
    "        \n",
    "        if self.head == None:\n",
    "            self.tail = None\n",
    "        \n",
    "        self.size -= 1\n",
    "        return value\n",
    "    \n",
    "    def deleteLast(self):\n",
    "        \n",
    "        if self.size <= 1:\n",
    "            return self.deleteFirst()\n",
    "            \n",
    "        second_last = self.head\n",
    "        while second_last.next.next != None:\n",
    "            second_last = second_last.next\n",
    "            \n",
    "        value = self.tail.value\n",
    "        self.tail = second_last\n",
    "        self.tail.next = None\n",
    "        \n",
    "        self.size -= 1\n",
    "        return value\n",
    "    \n",
    "    def insert(self, index, value):\n",
    "        \n",
    "        if index not in range(0, self.size + 1):\n",
    "            print(\"Pagal ho gya hai kya bhai\")\n",
    "            return\n",
    "        \n",
    "        if index == 0:\n",
    "            self.insertFirst(value)\n",
    "            return\n",
    "        \n",
    "        if index == self.size:\n",
    "            self.insertLast(value)\n",
    "            return\n",
    "        \n",
    "        prev = self.__seek(index - 1)\n",
    "        node = Node(value)\n",
    "        node.next = prev.next\n",
    "        prev.next = node\n",
    "        self.size += 1\n",
    "        \n",
    "    def __seek(self, index):\n",
    "        node = self.head\n",
    "        for i in range(index-1):\n",
    "            node = node.next\n",
    "            \n",
    "        return node\n",
    "             \n",
    "    def __repr__(self):\n",
    "        \n",
    "        node = self.head\n",
    "        ans = \"\"\n",
    "        while node != None:\n",
    "            ans = ans + str(node.value) + \"->\"\n",
    "            node = node.next\n",
    "                \n",
    "        return ans"
   ]
  },
  {
   "cell_type": "code",
   "execution_count": 4,
   "metadata": {},
   "outputs": [
    {
     "data": {
      "text/plain": [
       "20->100->10->30->"
      ]
     },
     "execution_count": 4,
     "metadata": {},
     "output_type": "execute_result"
    }
   ],
   "source": [
    "ll = LinkedList()\n",
    "ll.insert(0, 10)\n",
    "ll.insert(0, 20)\n",
    "ll.insert(2, 30)\n",
    "ll.insert(1, 100)\n",
    "ll"
   ]
  },
  {
   "cell_type": "code",
   "execution_count": 1,
   "metadata": {},
   "outputs": [
    {
     "name": "stdout",
     "output_type": "stream",
     "text": [
      "[[False, False, False, False, False], [False, False, False, False, False], [False, False, False, False, False]]\n"
     ]
    }
   ],
   "source": [
    "board = [[False] * 5 for i in range(3)]\n",
    "print(board)"
   ]
  },
  {
   "cell_type": "code",
   "execution_count": 2,
   "metadata": {},
   "outputs": [
    {
     "name": "stdout",
     "output_type": "stream",
     "text": [
      "5\n",
      "4\n",
      "3\n",
      "2\n",
      "1\n",
      "1\n",
      "2\n",
      "3\n",
      "4\n",
      "5\n"
     ]
    }
   ],
   "source": [
    "def pd(n):\n",
    "\n",
    "    if n == 0:\n",
    "        return\n",
    "\n",
    "    print(n)\n",
    "    pd(n-1)\n",
    "\n",
    "def pi(n):\n",
    "\n",
    "    if n == 0:\n",
    "        return\n",
    "\n",
    "    pi(n-1)\n",
    "    print(n)\n",
    "\n",
    "def pdi(n):\n",
    "\n",
    "    if n == 0:\n",
    "        return\n",
    "\n",
    "    print(n)\n",
    "    pdi(n-1)\n",
    "    print(n)\n",
    "\n",
    "\n",
    "pdi(5)"
   ]
  },
  {
   "cell_type": "code",
   "execution_count": 3,
   "metadata": {},
   "outputs": [
    {
     "name": "stdout",
     "output_type": "stream",
     "text": [
      "abc\n",
      "acb\n",
      "bac\n",
      "bca\n",
      "cab\n",
      "cba\n"
     ]
    }
   ],
   "source": [
    "def permute(processed, unprocessed):\n",
    "    if len(unprocessed) == 0:\n",
    "        print(processed)\n",
    "        return\n",
    "\n",
    "    for i in range(len(unprocessed)):\n",
    "        ch = unprocessed[i]\n",
    "        rec_unprocessed = unprocessed[:i] + unprocessed[i+1:]\n",
    "        permute(processed + ch, rec_unprocessed)\n",
    "\n",
    "\n",
    "permute(\"\", \"abc\")\n"
   ]
  },
  {
   "cell_type": "code",
   "execution_count": 6,
   "metadata": {},
   "outputs": [
    {
     "name": "stdout",
     "output_type": "stream",
     "text": [
      "abc\n",
      "ab\n",
      "ac\n",
      "a\n",
      "bc\n",
      "b\n",
      "c\n",
      "\n"
     ]
    }
   ],
   "source": [
    "def subseq(processed, unprocessed):\n",
    "    if len(unprocessed) == 0:\n",
    "        print(processed)\n",
    "        return\n",
    "    ch = unprocessed[0]\n",
    "    subseq(processed + ch, unprocessed[1:])\n",
    "    subseq(processed, unprocessed[1:])\n",
    "subseq(\"\", \"abc\")"
   ]
  },
  {
   "cell_type": "code",
   "execution_count": 13,
   "metadata": {},
   "outputs": [
    {
     "name": "stdout",
     "output_type": "stream",
     "text": [
      "5\n",
      "3\n",
      "1\n",
      "2\n",
      "4\n"
     ]
    }
   ],
   "source": [
    "def pdi(num):\n",
    "    \n",
    "    if num==0:\n",
    "        return\n",
    "    elif num % 2 != 0:\n",
    "        print(num)\n",
    "        pdi(num-1)\n",
    "    else:\n",
    "        pdi(num-1)\n",
    "        print(num)\n",
    "pdi(5)"
   ]
  },
  {
   "cell_type": "code",
   "execution_count": 14,
   "metadata": {},
   "outputs": [
    {
     "name": "stdout",
     "output_type": "stream",
     "text": [
      "Object `count` not found.\n"
     ]
    }
   ],
   "source": [
    "count?"
   ]
  },
  {
   "cell_type": "code",
   "execution_count": 15,
   "metadata": {},
   "outputs": [
    {
     "name": "stdout",
     "output_type": "stream",
     "text": [
      "abc\n",
      "acb\n",
      "bac\n",
      "bca\n",
      "cab\n",
      "cba\n"
     ]
    }
   ],
   "source": [
    "def permute(processed, unprocessed):\n",
    "    if len(unprocessed) == 0:\n",
    "        print(processed)\n",
    "        return\n",
    "\n",
    "    for i in range(len(unprocessed)):\n",
    "        ch = unprocessed[i]\n",
    "        rec_unprocessed = unprocessed[:i] + unprocessed[i+1:]\n",
    "        permute(processed + ch, rec_unprocessed)\n",
    "\n",
    "\n",
    "permute(\"\", \"abc\")\n",
    "\n"
   ]
  },
  {
   "cell_type": "code",
   "execution_count": 1,
   "metadata": {},
   "outputs": [
    {
     "data": {
      "text/plain": [
       "2"
      ]
     },
     "execution_count": 1,
     "metadata": {},
     "output_type": "execute_result"
    }
   ],
   "source": [
    "2%4"
   ]
  },
  {
   "cell_type": "code",
   "execution_count": 2,
   "metadata": {},
   "outputs": [
    {
     "name": "stdout",
     "output_type": "stream",
     "text": [
      "Object `flatten` not found.\n"
     ]
    }
   ],
   "source": [
    "flatten?"
   ]
  },
  {
   "cell_type": "code",
   "execution_count": 3,
   "metadata": {},
   "outputs": [
    {
     "name": "stdout",
     "output_type": "stream",
     "text": [
      "6\n"
     ]
    }
   ],
   "source": [
    "def permute(processed, unprocessed):\n",
    "\n",
    "    if len(unprocessed) == 0:\n",
    "        return 1\n",
    "\n",
    "    acc = 0\n",
    "    for i in range(len(unprocessed)):\n",
    "        ch = unprocessed[i]\n",
    "        rec_unprocessed = unprocessed[:i] + unprocessed[i+1:]\n",
    "        acc += permute(processed + ch, rec_unprocessed)\n",
    "\n",
    "    return acc\n",
    "\n",
    "\n",
    "print(permute(\"\", \"abc\"))"
   ]
  },
  {
   "cell_type": "code",
   "execution_count": 9,
   "metadata": {},
   "outputs": [
    {
     "name": "stdout",
     "output_type": "stream",
     "text": [
      "* * * * * \n"
     ]
    }
   ],
   "source": [
    "def starDown(stars):\n",
    "\n",
    "    if stars == 0:\n",
    "        return\n",
    "\n",
    "    for i in range(stars):\n",
    "        print(\"*\", end=\" \")\n",
    "\n",
    "    print()\n",
    "\n",
    "    starDown(stars-1)\n",
    "\n",
    "\n",
    "def starUp(stars):\n",
    "\n",
    "    if stars == 0:\n",
    "        return\n",
    "\n",
    "    starUp(stars-1)\n",
    "\n",
    "    for i in range(stars):\n",
    "        print(\"*\", end=\" \")\n",
    "\n",
    "    print()\n",
    "\n",
    "\n"
   ]
  },
  {
   "cell_type": "code",
   "execution_count": 17,
   "metadata": {},
   "outputs": [
    {
     "data": {
      "text/plain": [
       "True"
      ]
     },
     "execution_count": 17,
     "metadata": {},
     "output_type": "execute_result"
    }
   ],
   "source": [
    "def is_sorted(li, index=0):\n",
    "\n",
    "    if index == (len(li)-1):\n",
    "        return True\n",
    "\n",
    "    current = li[index] <= li[index + 1]\n",
    "    remaining = is_sorted(li, index+1)\n",
    "\n",
    "    return current and remaining\n",
    "\n",
    "\n",
    "def contains(li, target, index=0):\n",
    "\n",
    "    if index == len(li):\n",
    "        return False\n",
    "\n",
    "    current = li[index] == target\n",
    "    remaining = contains(li, target, index+1)\n",
    "\n",
    "    return current or remaining\n",
    "\n",
    "print(contains([11, 34, 43, 12], 34))"
   ]
  },
  {
   "cell_type": "code",
   "execution_count": 23,
   "metadata": {},
   "outputs": [
    {
     "name": "stdout",
     "output_type": "stream",
     "text": [
      "False\n"
     ]
    }
   ],
   "source": [
    "def contains(li, target, index=0):\n",
    "\n",
    "    if index == len(li):\n",
    "        return False\n",
    "\n",
    "    current = li[index] == target\n",
    "    remaining = contains(li, target, index+1)\n",
    "\n",
    "    return remaining or current\n",
    "\n",
    "print(contains([11, 34, 43, 12], 4))"
   ]
  },
  {
   "cell_type": "code",
   "execution_count": 24,
   "metadata": {},
   "outputs": [
    {
     "data": {
      "text/plain": [
       "True"
      ]
     },
     "execution_count": 24,
     "metadata": {},
     "output_type": "execute_result"
    }
   ],
   "source": [
    "li = [12,14]\n",
    "li[0]<li[1]"
   ]
  },
  {
   "cell_type": "code",
   "execution_count": 38,
   "metadata": {},
   "outputs": [
    {
     "ename": "SyntaxError",
     "evalue": "unexpected EOF while parsing (<ipython-input-38-0a1fc968acaf>, line 5)",
     "output_type": "error",
     "traceback": [
      "\u001b[0;36m  File \u001b[0;32m\"<ipython-input-38-0a1fc968acaf>\"\u001b[0;36m, line \u001b[0;32m5\u001b[0m\n\u001b[0;31m    print(is_sorted([])\u001b[0m\n\u001b[0m                       ^\u001b[0m\n\u001b[0;31mSyntaxError\u001b[0m\u001b[0;31m:\u001b[0m unexpected EOF while parsing\n"
     ]
    }
   ],
   "source": [
    "def is_sorted(li, index=0):\n",
    "    if index == (len(li)-1):\n",
    "        return True\n",
    "    \n",
    "    print(is_sorted([])"
   ]
  },
  {
   "cell_type": "code",
   "execution_count": 42,
   "metadata": {},
   "outputs": [
    {
     "data": {
      "text/plain": [
       "3"
      ]
     },
     "execution_count": 42,
     "metadata": {},
     "output_type": "execute_result"
    }
   ],
   "source": [
    "li = [12,13,14]\n",
    "len(li)"
   ]
  },
  {
   "cell_type": "code",
   "execution_count": 44,
   "metadata": {},
   "outputs": [
    {
     "name": "stdout",
     "output_type": "stream",
     "text": [
      "['abc', 'ab', 'ac', 'a', 'bc', 'b', 'c']\n"
     ]
    }
   ],
   "source": [
    "def subseq(processed, unprocessed):\n",
    "\n",
    "    if len(unprocessed) == 0:\n",
    "        print(processed)\n",
    "        return\n",
    "\n",
    "    ch = unprocessed[0]\n",
    "\n",
    "    subseq(processed + ch, unprocessed[1:])\n",
    "    subseq(processed, unprocessed[1:])\n",
    "\n",
    "\n",
    "def ret_subseq(processed, unprocessed):\n",
    "\n",
    "    if len(unprocessed) == 0:\n",
    "        if len(processed) == 0:\n",
    "            return []\n",
    "        return [processed]\n",
    "\n",
    "    ch = unprocessed[0]\n",
    "\n",
    "    acc = []\n",
    "    acc.extend(ret_subseq(processed + ch, unprocessed[1:]))\n",
    "    acc.extend(ret_subseq(processed, unprocessed[1:]))\n",
    "\n",
    "    return acc\n",
    "\n",
    "\n",
    "def count_subseq(processed, unprocessed):\n",
    "\n",
    "    if len(unprocessed) == 0:\n",
    "        return 1\n",
    "\n",
    "    ch = unprocessed[0]\n",
    "\n",
    "    left = count_subseq(processed + ch, unprocessed[1:])\n",
    "    right = count_subseq(processed, unprocessed[1:])\n",
    "\n",
    "    return left + right\n",
    "\n",
    "\n",
    "print(ret_subseq(\"\", \"abc\"))"
   ]
  },
  {
   "cell_type": "code",
   "execution_count": 51,
   "metadata": {},
   "outputs": [
    {
     "name": "stdout",
     "output_type": "stream",
     "text": [
      "['abc', 'ab', 'ac', 'a', 'bc', 'b', 'c', '']\n"
     ]
    }
   ],
   "source": [
    "def ret_subseq(processed, unprocessed):\n",
    "\n",
    "    if len(unprocessed) == 0:\n",
    "        return [processed]\n",
    "\n",
    "    ch = unprocessed[0]\n",
    "\n",
    "    acc = []\n",
    "    left = acc.extend(ret_subseq(processed + ch, unprocessed[1:]))\n",
    "    right = acc.extend(ret_subseq(processed, unprocessed[1:]))\n",
    "    return left + copyright\n",
    "\n",
    "print(ret_subseq(\"\", \"abc\"))"
   ]
  },
  {
   "cell_type": "code",
   "execution_count": 52,
   "metadata": {},
   "outputs": [
    {
     "name": "stdout",
     "output_type": "stream",
     "text": [
      "11111\n",
      "1112\n",
      "1121\n",
      "113\n",
      "1211\n",
      "122\n",
      "131\n",
      "2111\n",
      "212\n",
      "221\n",
      "23\n",
      "311\n",
      "32\n"
     ]
    }
   ],
   "source": [
    "def dice(processed, target, faces):\n",
    "\n",
    "    if target == 0:\n",
    "        print(processed)\n",
    "        return\n",
    "\n",
    "    for face in range(1, faces + 1):\n",
    "        if face > target:\n",
    "            continue\n",
    "\n",
    "        dice(processed + str(face), target-face, faces)\n",
    "\n",
    "\n",
    "def dicePath3(processed, target, faces):\n",
    "\n",
    "    if target == 0:\n",
    "        if len(processed) <= 3:\n",
    "            print(processed)\n",
    "        return\n",
    "\n",
    "    for face in range(1, faces + 1):\n",
    "        if face > target:\n",
    "            continue\n",
    "\n",
    "        dicePath3(processed + str(face), target-face, faces)\n",
    "\n",
    "\n",
    "def count_dice(processed, target, faces):\n",
    "\n",
    "    if target == 0:\n",
    "        return 1\n",
    "\n",
    "    acc = 0\n",
    "    for face in range(1, faces + 1):\n",
    "        if face > target:\n",
    "            continue\n",
    "\n",
    "        acc += count_dice(processed + str(face), target-face, faces)\n",
    "\n",
    "    return acc\n",
    "\n",
    "\n",
    "dice(\"\", 5, 3)"
   ]
  },
  {
   "cell_type": "code",
   "execution_count": null,
   "metadata": {},
   "outputs": [],
   "source": []
  }
 ],
 "metadata": {
  "kernelspec": {
   "display_name": "Python 3",
   "language": "python",
   "name": "python3"
  },
  "language_info": {
   "codemirror_mode": {
    "name": "ipython",
    "version": 3
   },
   "file_extension": ".py",
   "mimetype": "text/x-python",
   "name": "python",
   "nbconvert_exporter": "python",
   "pygments_lexer": "ipython3",
   "version": "3.7.3"
  }
 },
 "nbformat": 4,
 "nbformat_minor": 2
}
