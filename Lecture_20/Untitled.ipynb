{
 "cells": [
  {
   "cell_type": "code",
   "execution_count": 2,
   "metadata": {},
   "outputs": [],
   "source": [
    "class Node:\n",
    "    def __init__(self, value, left = None, right = None):\n",
    "        self.value =  value\n",
    "        self.left =  left\n",
    "        self.right = right"
   ]
  },
  {
   "cell_type": "code",
   "execution_count": 28,
   "metadata": {},
   "outputs": [],
   "source": [
    "class BST:\n",
    "    def __init__(self):\n",
    "        self.root = None\n",
    "    def add(self, value):\n",
    "        self.root = self.__add(value, self.root)\n",
    "    def __add(self, value, node):\n",
    "        if node == None:\n",
    "            node = Node(value)\n",
    "        else:\n",
    "            if node.value > value:\n",
    "                node.left = self.__add(value, node.left)\n",
    "            if node.value < value:\n",
    "                node.right = self.__add(value, node.right)\n",
    "        return node"
   ]
  },
  {
   "cell_type": "code",
   "execution_count": 29,
   "metadata": {},
   "outputs": [],
   "source": [
    "b = BST()\n",
    "\n",
    "b.add(20)\n",
    "b.add(10)\n",
    "\n",
    "\n",
    "b.add(30)\n",
    "\n",
    "b.add(13)"
   ]
  },
  {
   "cell_type": "code",
   "execution_count": 30,
   "metadata": {},
   "outputs": [
    {
     "name": "stdout",
     "output_type": "stream",
     "text": [
      "20\n"
     ]
    }
   ],
   "source": [
    "print(b.root.value)"
   ]
  },
  {
   "cell_type": "code",
   "execution_count": null,
   "metadata": {},
   "outputs": [],
   "source": []
  }
 ],
 "metadata": {
  "kernelspec": {
   "display_name": "Python 3",
   "language": "python",
   "name": "python3"
  },
  "language_info": {
   "codemirror_mode": {
    "name": "ipython",
    "version": 3
   },
   "file_extension": ".py",
   "mimetype": "text/x-python",
   "name": "python",
   "nbconvert_exporter": "python",
   "pygments_lexer": "ipython3",
   "version": "3.7.3"
  }
 },
 "nbformat": 4,
 "nbformat_minor": 2
}
